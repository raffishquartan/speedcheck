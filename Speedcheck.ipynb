{
 "cells": [
  {
   "cell_type": "markdown",
   "metadata": {
    "hideCode": false,
    "hidePrompt": false
   },
   "source": [
    "# Read data"
   ]
  },
  {
   "cell_type": "code",
   "execution_count": null,
   "metadata": {
    "hideCode": false,
    "hidePrompt": false
   },
   "outputs": [],
   "source": [
    "import pandas as pd\n",
    "!./copy-from-pi.sh >> /dev/null\n",
    "transfer_df = pd.io.parsers.read_csv('transfer-results.csv', parse_dates=[\"Timestamp\"], index_col=\"Timestamp\")\n",
    "eth0_df = pd.io.parsers.read_csv('eth0-results.csv', parse_dates=[\"Timestamp\"], index_col=\"Timestamp\")\n",
    "wlan1_df = pd.io.parsers.read_csv('wlan1-results.csv', parse_dates=[\"Timestamp\"], index_col=\"Timestamp\")\n",
    "print(\"Number of records - transfer: {} eth0: {} wlan1: {}\". \\\n",
    "    format(len(transfer_df.index), len(eth0_df.index), len(wlan1_df.index)))\n",
    "print(\"Last two hours worth of transfer records...\")\n",
    "transfer_df[-12:] # show the last two hours of transfer records"
   ]
  },
  {
   "cell_type": "markdown",
   "metadata": {
    "hideCode": false,
    "hidePrompt": false
   },
   "source": [
    "# Last 24 hours"
   ]
  },
  {
   "cell_type": "code",
   "execution_count": null,
   "metadata": {
    "hideCode": false,
    "hidePrompt": false
   },
   "outputs": [],
   "source": [
    "import datetime\n",
    "import numpy as np\n",
    "\n",
    "rollingPeriod = 6\n",
    "\n",
    "now = datetime.datetime.now()\n",
    "dayago = now - datetime.timedelta(days=1)\n",
    "merged_act = pd.merge(eth0_df[dayago : now], wlan1_df[dayago : now], left_index=True, right_index=True, how=\"outer\", \\\n",
    "    suffixes=((\"_eth0\", \"_wlan1\")))\n",
    "merged = pd.merge(transfer_df[dayago : now], merged_act[dayago : now], left_index=True, right_index=True, how=\"outer\")\n",
    "merged[\"Download\"] = merged[\"Download\"] / 1000 # change to kbits\n",
    "merged[\"Upload\"] = merged[\"Upload\"] / 1000 # change to kbits\n",
    "merged[\"NormPacketCount_eth0\"] = merged[\"PacketCount_eth0\"] / merged_act[\"Duration_eth0\"] # packets / s\n",
    "merged[\"NormPacketCount_wlan1\"] = merged[\"PacketCount_wlan1\"] / merged_act[\"Duration_wlan1\"] # packets / s\n",
    "merged = merged.drop([\"Server ID\", \"Sponsor\", \"Server Name\", \"Distance\", \"Share\", \"IP Address\", \"PacketCount_eth0\",\n",
    "                      \"Duration_eth0\", \"Interface_eth0\", \"PacketCount_wlan1\", \"Duration_wlan1\", \"Interface_wlan1\"], \n",
    "                     axis=1)\n",
    "merged = merged.resample('5min').mean() # align transfer_df, lan_df timestamps; shuffle data to round time intervals\n",
    "\n",
    "merged[\"Upload\"] = merged[\"Upload\"].rolling(rollingPeriod).mean()\n",
    "merged[\"Download\"] = merged[\"Download\"].rolling(rollingPeriod).mean()\n",
    "merged[\"Ping\"] = merged[\"Ping\"].rolling(rollingPeriod).mean()\n",
    "merged[\"NormPacketCount_eth0\"] = (merged[\"NormPacketCount_eth0\"] * 10).rolling(rollingPeriod).mean()\n",
    "merged[\"NormPacketCount_wlan1\"] = (merged[\"NormPacketCount_wlan1\"] * 10).rolling(rollingPeriod).mean()\n",
    "merged[\"NormPacketCount_comb\"] = merged[\"NormPacketCount_eth0\"] + merged[\"NormPacketCount_wlan1\"] # *after* resample"
   ]
  },
  {
   "cell_type": "code",
   "execution_count": null,
   "metadata": {},
   "outputs": [],
   "source": [
    "%matplotlib notebook\n",
    "import matplotlib.pyplot as plt\n",
    "import seaborn\n",
    "seaborn.set_style('dark')\n",
    "\n",
    "fig = plt.figure(figsize=(9.5, 9))\n",
    "ax1 = fig.add_subplot(3, 1, 1)\n",
    "ax2 = fig.add_subplot(3, 1, 2)\n",
    "ax3 = fig.add_subplot(3, 1, 3)\n",
    "ax1.plot(merged[\"Upload\"], color='g', linestyle='solid', label=\"Up (kbps)\")\n",
    "ax1.plot(merged[\"Download\"],color='r', linestyle='solid', label=\"Down (kbps)\")\n",
    "ax1.set_title('Raw upload and download performance')\n",
    "ax1.legend(loc='best')\n",
    "ax2.plot(merged[\"Ping\"], color='b', linestyle='solid', label=\"Ping (ms)\")\n",
    "ax2.plot([], color='k', linestyle='solid', label=\"LAN activity (packet count per 10s)\")\n",
    "ax2.set_title('Local LAN activity and ping to remote host')\n",
    "ax2a = ax2.twinx()\n",
    "ax2a.plot(merged[\"NormPacketCount_comb\"], color='k', linestyle='solid', label=\"LAN activity (packet count per 10s)\")\n",
    "ax2.legend(loc='best')\n",
    "ax3.plot(merged[\"Upload\"] / merged[\"NormPacketCount_comb\"], color='g', linestyle='solid', label=\"Up\")\n",
    "ax3.plot(merged[\"Download\"] / merged[\"NormPacketCount_comb\"], color='r', linestyle='solid', label=\"Down\")\n",
    "ax3.set_title('Upload and download, normalised by LAN activity')\n",
    "ax3.legend(loc='best')"
   ]
  },
  {
   "cell_type": "code",
   "execution_count": null,
   "metadata": {},
   "outputs": [],
   "source": []
  }
 ],
 "metadata": {
  "celltoolbar": "Hide code",
  "hide_code_all_hidden": true,
  "kernelspec": {
   "display_name": "Python 3",
   "language": "python",
   "name": "python3"
  }
 },
 "nbformat": 4,
 "nbformat_minor": 2
}
