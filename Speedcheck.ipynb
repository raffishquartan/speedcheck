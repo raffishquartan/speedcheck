{
 "cells": [
  {
   "cell_type": "markdown",
   "metadata": {
    "hideCode": false,
    "hidePrompt": false
   },
   "source": [
    "# Read data"
   ]
  },
  {
   "cell_type": "code",
   "execution_count": null,
   "metadata": {
    "hideCode": false,
    "hidePrompt": false
   },
   "outputs": [],
   "source": [
    "import pandas as pd\n",
    "!./copy-from-pi.sh >> /dev/null\n",
    "transfer_df = pd.io.parsers.read_csv('transfer-results.csv', parse_dates=[\"Timestamp\"], index_col=\"Timestamp\")\n",
    "lan_df = pd.io.parsers.read_csv('eth0-results.csv', parse_dates=[\"Timestamp\"], index_col=\"Timestamp\")\n",
    "print(\"Number of records - transfer: {} lan: {}\".format(len(transfer_df.index), len(lan_df.index)))\n",
    "print(\"Last two hours worth of transfer records...\")\n",
    "transfer_df[-12:] # show the last two hours of transfer records"
   ]
  },
  {
   "cell_type": "markdown",
   "metadata": {
    "hideCode": false,
    "hidePrompt": false
   },
   "source": [
    "# Last 24 hours"
   ]
  },
  {
   "cell_type": "code",
   "execution_count": null,
   "metadata": {
    "hideCode": false,
    "hidePrompt": false
   },
   "outputs": [],
   "source": [
    "%matplotlib notebook\n",
    "import matplotlib.pyplot as plt\n",
    "import seaborn\n",
    "import datetime\n",
    "import numpy as np\n",
    "\n",
    "rollingPeriod = 6\n",
    "\n",
    "now = datetime.datetime.now()\n",
    "dayago = now - datetime.timedelta(days=1)\n",
    "merged = pd.merge(transfer_df[dayago : now], lan_df[dayago : now], left_index=True, right_index=True, how=\"outer\")\n",
    "merged[\"NormPacketCount\"] = merged[\"PacketCount\"] / merged[\"Duration\"]\n",
    "merged[\"Download\"] = merged[\"Download\"] / 1000\n",
    "merged[\"Upload\"] = merged[\"Upload\"] / 1000\n",
    "merged = merged.drop([\"Server ID\", \"Sponsor\", \"Server Name\", \"Distance\", \"Share\", \"IP Address\", \"PacketCount\", \\\n",
    "                      \"Duration\"], axis=1)\n",
    "merged = merged.resample('5min').mean() # align transfer_df, lan_df timestamps; shuffle data back to round time intervals\n",
    "\n",
    "merged[\"Upload\"] = merged[\"Upload\"].rolling(rollingPeriod).mean()\n",
    "merged[\"Download\"] = merged[\"Download\"].rolling(rollingPeriod).mean()\n",
    "merged[\"Ping\"] = merged[\"Ping\"].rolling(rollingPeriod).mean()\n",
    "merged[\"NormPacketCount\"] = (merged[\"NormPacketCount\"] * 100).rolling(rollingPeriod).mean()\n",
    "\n",
    "fig = plt.figure(figsize=(9.5, 9))\n",
    "ax1 = fig.add_subplot(3, 1, 1)\n",
    "ax2 = fig.add_subplot(3, 1, 2)\n",
    "ax3 = fig.add_subplot(3, 1, 3)\n",
    "ax1.plot(merged[\"Upload\"], color='g', linestyle='solid', label=\"Up (kbps)\")\n",
    "ax1.plot(merged[\"Download\"],color='r', linestyle='solid', label=\"Down (kbps)\")\n",
    "ax1.set_title('Raw upload and download performance')\n",
    "ax1.legend(loc='best')\n",
    "ax2.plot(merged[\"Ping\"], color='b', linestyle='solid', label=\"Ping (ms)\")\n",
    "ax2.plot(merged[\"NormPacketCount\"], color='k', linestyle='solid', label=\"LAN activity (packet count per 100s)\")\n",
    "ax2.set_title('Local LAN activity and ping to remote host')\n",
    "ax2.legend(loc='best')\n",
    "ax3.plot(merged[\"Upload\"] / merged[\"NormPacketCount\"], color='g', linestyle='solid', label=\"Up\")\n",
    "ax3.plot(merged[\"Download\"] / merged[\"NormPacketCount\"], color='r', linestyle='solid', label=\"Down\")\n",
    "ax3.set_title('Upload and download, divided by LAN activity (packet count)')\n",
    "ax3.legend(loc='best')"
   ]
  },
  {
   "cell_type": "code",
   "execution_count": null,
   "metadata": {},
   "outputs": [],
   "source": []
  }
 ],
 "metadata": {
  "celltoolbar": "Hide code",
  "hide_code_all_hidden": true,
  "kernelspec": {
   "display_name": "Python 3",
   "language": "python",
   "name": "python3"
  }
 },
 "nbformat": 4,
 "nbformat_minor": 2
}
